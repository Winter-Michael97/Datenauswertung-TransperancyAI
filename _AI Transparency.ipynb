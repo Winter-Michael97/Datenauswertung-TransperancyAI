{
 "cells": [
  {
   "cell_type": "code",
   "id": "fd0d240d",
   "metadata": {
    "ExecuteTime": {
     "end_time": "2025-04-02T17:05:11.017392Z",
     "start_time": "2025-04-02T17:05:11.008851Z"
    }
   },
   "source": [
    "import pandas as pd\n",
    "import numpy as np\n",
    "import scipy.stats as stats\n",
    "from itertools import combinations\n",
    "import matplotlib.pyplot as plt\n",
    "import seaborn as sns\n",
    "import warnings\n",
    "import json\n",
    "warnings.filterwarnings(\"ignore\")"
   ],
   "outputs": [],
   "execution_count": 11
  },
  {
   "cell_type": "code",
   "id": "6097e701",
   "metadata": {
    "ExecuteTime": {
     "end_time": "2025-04-02T17:05:11.138077Z",
     "start_time": "2025-04-02T17:05:11.088070Z"
    }
   },
   "source": [
    "# Pfade zu den Dateien (Dateien müssen im gleichen Ordner liegen oder Pfad anpassen)\n",
    "users_df = pd.read_csv(\"users.csv\")\n",
    "answers_df = pd.read_csv(\"answers.csv\")\n",
    "\n",
    "# Antworten mit Gruppenzugehörigkeit mergen\n",
    "merged_df = answers_df.merge(users_df, left_on=\"user_id\", right_on=\"id\")"
   ],
   "outputs": [],
   "execution_count": 12
  },
  {
   "cell_type": "code",
   "id": "b05d3080",
   "metadata": {
    "ExecuteTime": {
     "end_time": "2025-04-02T17:05:11.179463Z",
     "start_time": "2025-04-02T17:05:11.155824Z"
    }
   },
   "source": [
    "# Gruppierung nach Gruppen und Berechnung des Mittelwertes, Standardabweichung und Anzahl der gesamten Bewertungen pro Gruppe\n",
    "group_stats = merged_df.groupby(\"gruppe\")[\"credibility_rating\"].agg([\"mean\", \"std\", \"count\"])\n",
    "print(\"Deskriptive Statistik pro Gruppe:\\n\")\n",
    "print(group_stats)"
   ],
   "outputs": [
    {
     "name": "stdout",
     "output_type": "stream",
     "text": [
      "Deskriptive Statistik pro Gruppe:\n",
      "\n",
      "            mean       std  count\n",
      "gruppe                           \n",
      "0       4.679487  1.963919     78\n",
      "1       5.194444  1.741287     72\n",
      "2       4.469697  1.756042     66\n"
     ]
    }
   ],
   "execution_count": 13
  },
  {
   "cell_type": "code",
   "id": "2456996e",
   "metadata": {
    "ExecuteTime": {
     "end_time": "2025-04-02T17:05:11.472717Z",
     "start_time": "2025-04-02T17:05:11.414364Z"
    }
   },
   "source": [
    "# Überprüfung, ob Werte Normalverteilt sind\n",
    "print(\"\\nShapiro-Wilk-Test pro Gruppe:\")\n",
    "for group in merged_df[\"gruppe\"].unique():\n",
    "    ratings = merged_df[merged_df[\"gruppe\"] == group][\"credibility_rating\"]\n",
    "    stat, p = stats.shapiro(ratings)\n",
    "    print(f\"Gruppe {group}: p-Wert = {p:.5f} {'(nicht normalverteilt)' if p < 0.05 else '(normalverteilt)'}\")"
   ],
   "outputs": [
    {
     "name": "stdout",
     "output_type": "stream",
     "text": [
      "\n",
      "Shapiro-Wilk-Test pro Gruppe:\n",
      "Gruppe 0: p-Wert = 0.00000 (nicht normalverteilt)\n",
      "Gruppe 1: p-Wert = 0.00000 (nicht normalverteilt)\n",
      "Gruppe 2: p-Wert = 0.00148 (nicht normalverteilt)\n"
     ]
    }
   ],
   "execution_count": 14
  },
  {
   "metadata": {
    "ExecuteTime": {
     "end_time": "2025-04-02T17:05:12.063190Z",
     "start_time": "2025-04-02T17:05:11.504724Z"
    }
   },
   "cell_type": "code",
   "source": [
    "# Boxplot der Daten zur Visualisierung\n",
    "plt.figure(figsize=(8, 6))\n",
    "sns.boxplot(\n",
    "    x=\"gruppe\",\n",
    "    y=\"credibility_rating\",\n",
    "    data=merged_df,\n",
    "    palette={\"0\": \"#1f77b4\", \"1\": \"#2ca02c\", \"2\": \"#d62728\"}  # Blau, Grün, Rot\n",
    ")\n",
    "plt.title(\"Credibility Ratings by Group (Scale 1–7)\")\n",
    "plt.xlabel(\"Group (0 = no citation, 1 = accurate citation, 2 = fabricated citation)\")\n",
    "plt.ylabel(\"Credibility Rating\")\n",
    "plt.tight_layout()\n",
    "plt.savefig(fname=\"boxplot.png\")\n",
    "plt.show()"
   ],
   "id": "b32a77de",
   "outputs": [
    {
     "data": {
      "text/plain": [
       "<Figure size 800x600 with 1 Axes>"
      ],
      "image/png": "[encoded data removed]"
     },
     "metadata": {},
     "output_type": "display_data"
    }
   ],
   "execution_count": 15
  },
  {
   "metadata": {
    "ExecuteTime": {
     "end_time": "2025-04-02T17:05:12.166524Z",
     "start_time": "2025-04-02T17:05:12.145537Z"
    }
   },
   "cell_type": "code",
   "source": [
    "# Da > 2 Gruppen nicht normalverteilt -> Kruskal-Wallis-Test\n",
    "# Alle Credibility Werte für jede eindeutige Gruppe holen\n",
    "grouped_ratings = [merged_df[merged_df[\"gruppe\"] == g][\"credibility_rating\"] for g in merged_df[\"gruppe\"].unique()]\n",
    "# Test durchführen\n",
    "kw_result = stats.kruskal(*grouped_ratings)\n",
    "print(f\"\\nKruskal-Wallis-Test: H = {kw_result.statistic:.3f}, p-Wert = {kw_result.pvalue:.5f}\")\n"
   ],
   "id": "0f4d8a9e",
   "outputs": [
    {
     "name": "stdout",
     "output_type": "stream",
     "text": [
      "\n",
      "Kruskal-Wallis-Test: H = 6.935, p-Wert = 0.03119\n"
     ]
    }
   ],
   "execution_count": 16
  },
  {
   "cell_type": "code",
   "id": "a6433f59d55b232d",
   "metadata": {
    "ExecuteTime": {
     "end_time": "2025-04-02T17:05:12.356142Z",
     "start_time": "2025-04-02T17:05:12.312014Z"
    }
   },
   "source": [
    "#Post-hoc Mann-Whitney-U-Tests mit Bonferroni-Korrektur\n",
    "pairwise_tests = []\n",
    "groups = merged_df[\"gruppe\"].unique()\n",
    "\n",
    "# Gruppenvergleich\n",
    "for g1, g2 in combinations(groups, 2):\n",
    "    # Credibility Werte aus beiden Gruppen holen\n",
    "    d1 = merged_df[merged_df[\"gruppe\"] == g1][\"credibility_rating\"]\n",
    "    d2 = merged_df[merged_df[\"gruppe\"] == g2][\"credibility_rating\"]\n",
    "    # Mann-Whitney-U-Test\n",
    "    stat, p = stats.mannwhitneyu(d1, d2, alternative=\"two-sided\")\n",
    "    # Ergebnisse speichern\n",
    "    pairwise_tests.append({\n",
    "        \"Vergleich\": f\"{g1} vs. {g2}\",\n",
    "        \"U-Statistik\": stat,\n",
    "        \"p-Wert\": p\n",
    "    })\n",
    "\n",
    "# In DataFrame umwandeln\n",
    "posthoc_df = pd.DataFrame(pairwise_tests)\n",
    "# Verschärfung des p-Wertes, um Risiko für zufällige Signifikanzen zu senken\n",
    "posthoc_df[\"Bonferroni-korrigierter p-Wert\"] = np.minimum(posthoc_df[\"p-Wert\"] * len(posthoc_df), 1.0)\n",
    "\n",
    "print(\"\\nPost-hoc Mann-Whitney-U-Tests (Bonferroni-korrigiert):\")\n",
    "print(posthoc_df)"
   ],
   "outputs": [
    {
     "name": "stdout",
     "output_type": "stream",
     "text": [
      "\n",
      "Post-hoc Mann-Whitney-U-Tests (Bonferroni-korrigiert):\n",
      "  Vergleich  U-Statistik    p-Wert  Bonferroni-korrigierter p-Wert\n",
      "0   0 vs. 1       2375.0  0.097059                        0.291178\n",
      "1   0 vs. 2       2827.0  0.303710                        0.911130\n",
      "2   1 vs. 2       2974.5  0.009502                        0.028507\n"
     ]
    }
   ],
   "execution_count": 17
  },
  {
   "metadata": {
    "ExecuteTime": {
     "end_time": "2025-04-02T17:05:12.522905Z",
     "start_time": "2025-04-02T17:05:12.435235Z"
    }
   },
   "cell_type": "code",
   "source": [
    "answers = pd.read_csv('answers.csv')\n",
    "users = pd.read_csv('users.csv')\n",
    "\n",
    "\n",
    "# Antworten der User mit Bewertung in Json pro Gruppe speichern\n",
    "merged_df = answers.merge(users, left_on='user_id', right_on='id', how='inner')\n",
    "\n",
    "gruppen = {gruppe: df for gruppe, df in merged_df.groupby('gruppe')}\n",
    "\n",
    "gruppe_0 = gruppen.get(0)\n",
    "gruppe_1 = gruppen.get(1)\n",
    "gruppe_2 = gruppen.get(2)\n",
    "\n",
    "gruppe_0_data = [(row['question_text'], row['credibility_rating'], row['answer_text']) for _, row in gruppe_0.iterrows() if not pd.isna(row['answer_text'])]\n",
    "gruppe_1_data = [(row['question_text'], row['credibility_rating'], row['answer_text']) for _, row in gruppe_1.iterrows() if not pd.isna(row['answer_text'])]\n",
    "gruppe_2_data = [(row['question_text'], row['credibility_rating'], row['answer_text']) for _, row in gruppe_2.iterrows() if not pd.isna(row['answer_text'])]\n",
    "\n",
    "\n",
    "# Json speichern\n",
    "with open('gruppe_0_data.json', 'w', encoding='utf-8') as f:\n",
    "    json.dump(gruppe_0_data, f, ensure_ascii=False, indent=4)\n",
    "\n",
    "with open('gruppe_1_data.json', 'w', encoding='utf-8') as f:\n",
    "    json.dump(gruppe_1_data, f, ensure_ascii=False, indent=4)\n",
    "\n",
    "with open('gruppe_2_data.json', 'w', encoding='utf-8') as f:\n",
    "    json.dump(gruppe_2_data, f, ensure_ascii=False, indent=4)"
   ],
   "id": "64b3e18e7db4615",
   "outputs": [],
   "execution_count": 18
  },
  {
   "metadata": {
    "ExecuteTime": {
     "end_time": "2025-04-02T17:05:12.615838Z",
     "start_time": "2025-04-02T17:05:12.531191Z"
    }
   },
   "cell_type": "code",
   "source": [
    "def lade_json(pfad):\n",
    "    with open(pfad, 'r', encoding='utf-8') as f:\n",
    "        return json.load(f)\n",
    "\n",
    "def flatten_liste(liste):\n",
    "    if len(liste) == 1 and isinstance(liste[0], list):\n",
    "        return liste[0]\n",
    "    return liste\n",
    "\n",
    "# Schlagworte, die auf quellenbezogene Aussagen hindeuten\n",
    "quellen_schlagworte = [\n",
    "    \"quelle\", \"belegt\", \"link\", \"beweis\",\n",
    "]\n",
    "\n",
    "\n",
    "# Match mit Schlagwörtern überprüfen\n",
    "def ist_quellenbezogen(text):\n",
    "    if not isinstance(text, str):\n",
    "        return False\n",
    "    text = text.lower()\n",
    "    return any(wort in text for wort in quellen_schlagworte)\n",
    "\n",
    "# Einträge Speichern\n",
    "def verarbeite_eintraege(eintraege, gruppenname):\n",
    "    verarbeitete = []\n",
    "    for eintrag in eintraege:\n",
    "        kommentar = \"\"\n",
    "        if isinstance(eintrag, dict):\n",
    "            kommentar = eintrag.get(\"Kommentar\", \"\")\n",
    "            if ist_quellenbezogen(kommentar):\n",
    "                verarbeitete.append({\n",
    "                    \"Gruppe\": gruppenname,\n",
    "                    \"Frage\": eintrag.get(\"Frage\", \"\"),\n",
    "                    \"Bewertung\": eintrag.get(\"Bewertung\", \"\"),\n",
    "                    \"Kommentar\": kommentar,\n",
    "                })\n",
    "        elif isinstance(eintrag, list) and len(eintrag) >= 3:\n",
    "            kommentar = eintrag[2]\n",
    "            if ist_quellenbezogen(kommentar):\n",
    "                verarbeitete.append({\n",
    "                    \"Gruppe\": gruppenname,\n",
    "                    \"Frage\": eintrag[0],\n",
    "                    \"Bewertung\": eintrag[1],\n",
    "                    \"Kommentar\": kommentar,\n",
    "                })\n",
    "        else:\n",
    "            print(f\"⚠️ Ungültiger Eintrag ignoriert: {eintrag}\")\n",
    "    return verarbeitete\n",
    "\n",
    "# Daten laden und verarbeiten\n",
    "gruppe_0 = flatten_liste(lade_json('gruppe_0_data.json'))\n",
    "gruppe_1 = flatten_liste(lade_json('gruppe_1_data.json'))\n",
    "gruppe_2 = flatten_liste(lade_json('gruppe_2_data.json'))\n",
    "\n",
    "gruppe_0 = verarbeite_eintraege(gruppe_0, \"gruppe_0\")\n",
    "gruppe_1 = verarbeite_eintraege(gruppe_1, \"gruppe_1\")\n",
    "gruppe_2 = verarbeite_eintraege(gruppe_2, \"gruppe_2\")\n",
    "\n",
    "# Zusammenführen\n",
    "zielstruktur = gruppe_0 + gruppe_1 + gruppe_2\n",
    "\n",
    "# Speichern\n",
    "with open('quellenbezogenen_kommentaren.json', 'w', encoding='utf-8') as f:\n",
    "    json.dump(zielstruktur, f, indent=2, ensure_ascii=False)\n",
    "\n",
    "print(f\"{len(zielstruktur)} quellenbezogene Kommentare gespeichert in\")\n"
   ],
   "id": "bcd1e41a",
   "outputs": [
    {
     "name": "stdout",
     "output_type": "stream",
     "text": [
      "31 quellenbezogene Kommentare gespeichert in\n"
     ]
    }
   ],
   "execution_count": 19
  }
 ],
 "metadata": {
  "kernelspec": {
   "display_name": "Python 3 (ipykernel)",
   "language": "python",
   "name": "python3"
  },
  "language_info": {
   "codemirror_mode": {
    "name": "ipython",
    "version": 3
   },
   "file_extension": ".py",
   "mimetype": "text/x-python",
   "name": "python",
   "nbconvert_exporter": "python",
   "pygments_lexer": "ipython3",
   "version": "3.10.9"
  }
 },
 "nbformat": 4,
 "nbformat_minor": 5
}
